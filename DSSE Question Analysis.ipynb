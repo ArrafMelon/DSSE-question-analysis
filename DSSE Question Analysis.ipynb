{
 "cells": [
  {
   "cell_type": "markdown",
   "id": "0deb263e",
   "metadata": {},
   "source": [
    "# Exploring Questions posted on Data Science Stack Exchange\n",
    "Data Science Stack Exchange (DSSE) is a website where users can ask questions related to Data Science. These questions are answered by other users on the site. You can filter questions relating to a specific topic by selecting one of the tags. For example, selecting the 'python' tag will direct the user to questions regarding Python. Users can also explore other users, companies, and unanswered questions on the website."
   ]
  },
  {
   "cell_type": "markdown",
   "id": "18f25601",
   "metadata": {},
   "source": [
    "Using the Stack Exchange Data Explorer (SEDE), we can explore different data. \n",
    "For example, Running the SQL query:\n",
    "\n",
    "SELECT TOP 10 *\n",
    "  \n",
    "    FROM tags\n",
    " \n",
    "    ORDER BY Count DESC;\n",
    " \n",
    "We can see that tags with machine learning are posted the most, followed by python tags.\n",
    "\n",
    "We can explore the tables on the side, where the Posts table has a lot of relevant information such as the score, the tags used, how many favourites a post got and more."
   ]
  },
  {
   "cell_type": "markdown",
   "id": "95eed5ee",
   "metadata": {},
   "source": [
    "For this project, we will analyze questions from the most recent full year which was 2022. This query was ran to get the csv file:\n",
    "\n",
    "SELECT\n",
    "\n",
    "  Id,\n",
    "  CreationDate,\n",
    "  Score,\n",
    "  ViewCount,\n",
    "  Tags,\n",
    "  AnswerCount,\n",
    "  FavoriteCount\n",
    "  \n",
    "  FROM posts\n",
    "  \n",
    "  WHERE PostTypeId=1 and YEAR(CreationDate)=2022;"
   ]
  },
  {
   "cell_type": "markdown",
   "id": "aa3780bd",
   "metadata": {},
   "source": [
    "## Importing dataset"
   ]
  },
  {
   "cell_type": "code",
   "execution_count": 1,
   "id": "b4519e00",
   "metadata": {},
   "outputs": [],
   "source": [
    "import pandas as pd\n",
    "import matplotlib.pyplot as plt\n",
    "import seaborn as sns\n",
    "import numpy as np\n",
    "\n",
    "%matplotlib inline"
   ]
  },
  {
   "cell_type": "code",
   "execution_count": 2,
   "id": "6f48168c",
   "metadata": {},
   "outputs": [],
   "source": [
    "questions = pd.read_csv('2022_questions.csv',parse_dates=['CreationDate'])"
   ]
  },
  {
   "cell_type": "code",
   "execution_count": 3,
   "id": "0f116a40",
   "metadata": {},
   "outputs": [
    {
     "name": "stdout",
     "output_type": "stream",
     "text": [
      "<class 'pandas.core.frame.DataFrame'>\n",
      "RangeIndex: 4644 entries, 0 to 4643\n",
      "Data columns (total 7 columns):\n",
      " #   Column         Non-Null Count  Dtype         \n",
      "---  ------         --------------  -----         \n",
      " 0   Id             4644 non-null   int64         \n",
      " 1   CreationDate   4644 non-null   datetime64[ns]\n",
      " 2   Score          4644 non-null   int64         \n",
      " 3   ViewCount      4644 non-null   int64         \n",
      " 4   Tags           4644 non-null   object        \n",
      " 5   AnswerCount    4644 non-null   int64         \n",
      " 6   FavoriteCount  18 non-null     float64       \n",
      "dtypes: datetime64[ns](1), float64(1), int64(4), object(1)\n",
      "memory usage: 254.1+ KB\n"
     ]
    }
   ],
   "source": [
    "questions.info()"
   ]
  },
  {
   "cell_type": "markdown",
   "id": "51f8177d",
   "metadata": {},
   "source": [
    "We see that, there are only 18 values entered for FavoriteCount, Let's see what these values are first"
   ]
  },
  {
   "cell_type": "markdown",
   "id": "16f0c99d",
   "metadata": {},
   "source": [
    "## Cleaning data"
   ]
  },
  {
   "cell_type": "code",
   "execution_count": 4,
   "id": "aecbc705",
   "metadata": {},
   "outputs": [
    {
     "data": {
      "text/plain": [
       "0.0    17\n",
       "1.0     1\n",
       "Name: FavoriteCount, dtype: int64"
      ]
     },
     "execution_count": 4,
     "metadata": {},
     "output_type": "execute_result"
    }
   ],
   "source": [
    "questions['FavoriteCount'].value_counts()"
   ]
  },
  {
   "cell_type": "markdown",
   "id": "a68ee9e9",
   "metadata": {},
   "source": [
    "We see that most of the valid amount of favourites are just 0, while only one of them has 1 like. This column does not have that much data, so it would be better to just drop it."
   ]
  },
  {
   "cell_type": "code",
   "execution_count": 5,
   "id": "f92ec65b",
   "metadata": {},
   "outputs": [],
   "source": [
    "questions.drop('FavoriteCount',inplace=True,axis=1)"
   ]
  },
  {
   "cell_type": "code",
   "execution_count": 6,
   "id": "61a27cb1",
   "metadata": {},
   "outputs": [
    {
     "data": {
      "text/html": [
       "<div>\n",
       "<style scoped>\n",
       "    .dataframe tbody tr th:only-of-type {\n",
       "        vertical-align: middle;\n",
       "    }\n",
       "\n",
       "    .dataframe tbody tr th {\n",
       "        vertical-align: top;\n",
       "    }\n",
       "\n",
       "    .dataframe thead th {\n",
       "        text-align: right;\n",
       "    }\n",
       "</style>\n",
       "<table border=\"1\" class=\"dataframe\">\n",
       "  <thead>\n",
       "    <tr style=\"text-align: right;\">\n",
       "      <th></th>\n",
       "      <th>Id</th>\n",
       "      <th>CreationDate</th>\n",
       "      <th>Score</th>\n",
       "      <th>ViewCount</th>\n",
       "      <th>Tags</th>\n",
       "      <th>AnswerCount</th>\n",
       "    </tr>\n",
       "  </thead>\n",
       "  <tbody>\n",
       "    <tr>\n",
       "      <th>0</th>\n",
       "      <td>106600</td>\n",
       "      <td>2022-01-01 00:20:53</td>\n",
       "      <td>4</td>\n",
       "      <td>2299</td>\n",
       "      <td>&lt;python&gt;&lt;keras&gt;&lt;tensorflow&gt;&lt;regression&gt;</td>\n",
       "      <td>1</td>\n",
       "    </tr>\n",
       "    <tr>\n",
       "      <th>1</th>\n",
       "      <td>106602</td>\n",
       "      <td>2022-01-01 03:32:55</td>\n",
       "      <td>3</td>\n",
       "      <td>134</td>\n",
       "      <td>&lt;deep-learning&gt;&lt;word-embeddings&gt;&lt;deepmind&gt;</td>\n",
       "      <td>1</td>\n",
       "    </tr>\n",
       "    <tr>\n",
       "      <th>2</th>\n",
       "      <td>106603</td>\n",
       "      <td>2022-01-01 06:18:52</td>\n",
       "      <td>0</td>\n",
       "      <td>52</td>\n",
       "      <td>&lt;logistic-regression&gt;&lt;sigmoid&gt;</td>\n",
       "      <td>1</td>\n",
       "    </tr>\n",
       "    <tr>\n",
       "      <th>3</th>\n",
       "      <td>106607</td>\n",
       "      <td>2022-01-01 15:07:25</td>\n",
       "      <td>1</td>\n",
       "      <td>21</td>\n",
       "      <td>&lt;machine-learning&gt;&lt;python&gt;&lt;pandas&gt;&lt;statistics&gt;...</td>\n",
       "      <td>0</td>\n",
       "    </tr>\n",
       "    <tr>\n",
       "      <th>4</th>\n",
       "      <td>106609</td>\n",
       "      <td>2022-01-01 15:40:23</td>\n",
       "      <td>0</td>\n",
       "      <td>27</td>\n",
       "      <td>&lt;nlp&gt;&lt;data-science-model&gt;&lt;bert&gt;</td>\n",
       "      <td>0</td>\n",
       "    </tr>\n",
       "  </tbody>\n",
       "</table>\n",
       "</div>"
      ],
      "text/plain": [
       "       Id        CreationDate  Score  ViewCount  \\\n",
       "0  106600 2022-01-01 00:20:53      4       2299   \n",
       "1  106602 2022-01-01 03:32:55      3        134   \n",
       "2  106603 2022-01-01 06:18:52      0         52   \n",
       "3  106607 2022-01-01 15:07:25      1         21   \n",
       "4  106609 2022-01-01 15:40:23      0         27   \n",
       "\n",
       "                                                Tags  AnswerCount  \n",
       "0            <python><keras><tensorflow><regression>            1  \n",
       "1         <deep-learning><word-embeddings><deepmind>            1  \n",
       "2                     <logistic-regression><sigmoid>            1  \n",
       "3  <machine-learning><python><pandas><statistics>...            0  \n",
       "4                    <nlp><data-science-model><bert>            0  "
      ]
     },
     "execution_count": 6,
     "metadata": {},
     "output_type": "execute_result"
    }
   ],
   "source": [
    "questions.head()"
   ]
  },
  {
   "cell_type": "code",
   "execution_count": 7,
   "id": "86bc42c0",
   "metadata": {},
   "outputs": [],
   "source": [
    "questions.fillna(0,inplace=True)"
   ]
  },
  {
   "cell_type": "markdown",
   "id": "e7387b1a",
   "metadata": {},
   "source": [
    "Let's now clean the tags column, seperating by commas"
   ]
  },
  {
   "cell_type": "code",
   "execution_count": 8,
   "id": "f597163e",
   "metadata": {},
   "outputs": [],
   "source": [
    "questions['Tags'] = questions['Tags'].str.replace(\"><\",\", \").str.replace(\"<\",\"\").str.replace(\">\",\"\").str.replace(\"-\",\" \")"
   ]
  },
  {
   "cell_type": "code",
   "execution_count": 9,
   "id": "d3f587bd",
   "metadata": {},
   "outputs": [
    {
     "data": {
      "text/html": [
       "<div>\n",
       "<style scoped>\n",
       "    .dataframe tbody tr th:only-of-type {\n",
       "        vertical-align: middle;\n",
       "    }\n",
       "\n",
       "    .dataframe tbody tr th {\n",
       "        vertical-align: top;\n",
       "    }\n",
       "\n",
       "    .dataframe thead th {\n",
       "        text-align: right;\n",
       "    }\n",
       "</style>\n",
       "<table border=\"1\" class=\"dataframe\">\n",
       "  <thead>\n",
       "    <tr style=\"text-align: right;\">\n",
       "      <th></th>\n",
       "      <th>Id</th>\n",
       "      <th>CreationDate</th>\n",
       "      <th>Score</th>\n",
       "      <th>ViewCount</th>\n",
       "      <th>Tags</th>\n",
       "      <th>AnswerCount</th>\n",
       "    </tr>\n",
       "  </thead>\n",
       "  <tbody>\n",
       "    <tr>\n",
       "      <th>0</th>\n",
       "      <td>106600</td>\n",
       "      <td>2022-01-01 00:20:53</td>\n",
       "      <td>4</td>\n",
       "      <td>2299</td>\n",
       "      <td>python, keras, tensorflow, regression</td>\n",
       "      <td>1</td>\n",
       "    </tr>\n",
       "    <tr>\n",
       "      <th>1</th>\n",
       "      <td>106602</td>\n",
       "      <td>2022-01-01 03:32:55</td>\n",
       "      <td>3</td>\n",
       "      <td>134</td>\n",
       "      <td>deep learning, word embeddings, deepmind</td>\n",
       "      <td>1</td>\n",
       "    </tr>\n",
       "    <tr>\n",
       "      <th>2</th>\n",
       "      <td>106603</td>\n",
       "      <td>2022-01-01 06:18:52</td>\n",
       "      <td>0</td>\n",
       "      <td>52</td>\n",
       "      <td>logistic regression, sigmoid</td>\n",
       "      <td>1</td>\n",
       "    </tr>\n",
       "    <tr>\n",
       "      <th>3</th>\n",
       "      <td>106607</td>\n",
       "      <td>2022-01-01 15:07:25</td>\n",
       "      <td>1</td>\n",
       "      <td>21</td>\n",
       "      <td>machine learning, python, pandas, statistics, ...</td>\n",
       "      <td>0</td>\n",
       "    </tr>\n",
       "    <tr>\n",
       "      <th>4</th>\n",
       "      <td>106609</td>\n",
       "      <td>2022-01-01 15:40:23</td>\n",
       "      <td>0</td>\n",
       "      <td>27</td>\n",
       "      <td>nlp, data science model, bert</td>\n",
       "      <td>0</td>\n",
       "    </tr>\n",
       "  </tbody>\n",
       "</table>\n",
       "</div>"
      ],
      "text/plain": [
       "       Id        CreationDate  Score  ViewCount  \\\n",
       "0  106600 2022-01-01 00:20:53      4       2299   \n",
       "1  106602 2022-01-01 03:32:55      3        134   \n",
       "2  106603 2022-01-01 06:18:52      0         52   \n",
       "3  106607 2022-01-01 15:07:25      1         21   \n",
       "4  106609 2022-01-01 15:40:23      0         27   \n",
       "\n",
       "                                                Tags  AnswerCount  \n",
       "0              python, keras, tensorflow, regression            1  \n",
       "1           deep learning, word embeddings, deepmind            1  \n",
       "2                       logistic regression, sigmoid            1  \n",
       "3  machine learning, python, pandas, statistics, ...            0  \n",
       "4                      nlp, data science model, bert            0  "
      ]
     },
     "execution_count": 9,
     "metadata": {},
     "output_type": "execute_result"
    }
   ],
   "source": [
    "questions.head()"
   ]
  },
  {
   "cell_type": "markdown",
   "id": "86c3a7ef",
   "metadata": {},
   "source": [
    "## Most Popular tags\n",
    "Now, Let's investigate how many times a tag was used and viewed"
   ]
  },
  {
   "cell_type": "code",
   "execution_count": 10,
   "id": "0b6b1ac4",
   "metadata": {},
   "outputs": [
    {
     "data": {
      "text/html": [
       "<div>\n",
       "<style scoped>\n",
       "    .dataframe tbody tr th:only-of-type {\n",
       "        vertical-align: middle;\n",
       "    }\n",
       "\n",
       "    .dataframe tbody tr th {\n",
       "        vertical-align: top;\n",
       "    }\n",
       "\n",
       "    .dataframe thead th {\n",
       "        text-align: right;\n",
       "    }\n",
       "</style>\n",
       "<table border=\"1\" class=\"dataframe\">\n",
       "  <thead>\n",
       "    <tr style=\"text-align: right;\">\n",
       "      <th></th>\n",
       "      <th>count</th>\n",
       "    </tr>\n",
       "  </thead>\n",
       "  <tbody>\n",
       "    <tr>\n",
       "      <th>machine learning</th>\n",
       "      <td>1279</td>\n",
       "    </tr>\n",
       "    <tr>\n",
       "      <th>python</th>\n",
       "      <td>778</td>\n",
       "    </tr>\n",
       "    <tr>\n",
       "      <th>deep learning</th>\n",
       "      <td>654</td>\n",
       "    </tr>\n",
       "    <tr>\n",
       "      <th>nlp</th>\n",
       "      <td>398</td>\n",
       "    </tr>\n",
       "    <tr>\n",
       "      <th>classification</th>\n",
       "      <td>385</td>\n",
       "    </tr>\n",
       "    <tr>\n",
       "      <th>neural network</th>\n",
       "      <td>366</td>\n",
       "    </tr>\n",
       "    <tr>\n",
       "      <th>time series</th>\n",
       "      <td>309</td>\n",
       "    </tr>\n",
       "    <tr>\n",
       "      <th>tensorflow</th>\n",
       "      <td>268</td>\n",
       "    </tr>\n",
       "    <tr>\n",
       "      <th>scikit learn</th>\n",
       "      <td>266</td>\n",
       "    </tr>\n",
       "    <tr>\n",
       "      <th>keras</th>\n",
       "      <td>261</td>\n",
       "    </tr>\n",
       "    <tr>\n",
       "      <th>regression</th>\n",
       "      <td>229</td>\n",
       "    </tr>\n",
       "    <tr>\n",
       "      <th>machine learning model</th>\n",
       "      <td>176</td>\n",
       "    </tr>\n",
       "    <tr>\n",
       "      <th>dataset</th>\n",
       "      <td>162</td>\n",
       "    </tr>\n",
       "    <tr>\n",
       "      <th>data science model</th>\n",
       "      <td>159</td>\n",
       "    </tr>\n",
       "    <tr>\n",
       "      <th>clustering</th>\n",
       "      <td>159</td>\n",
       "    </tr>\n",
       "  </tbody>\n",
       "</table>\n",
       "</div>"
      ],
      "text/plain": [
       "                        count\n",
       "machine learning         1279\n",
       "python                    778\n",
       "deep learning             654\n",
       "nlp                       398\n",
       "classification            385\n",
       "neural network            366\n",
       "time series               309\n",
       "tensorflow                268\n",
       "scikit learn              266\n",
       "keras                     261\n",
       "regression                229\n",
       "machine learning model    176\n",
       "dataset                   162\n",
       "data science model        159\n",
       "clustering                159"
      ]
     },
     "execution_count": 10,
     "metadata": {},
     "output_type": "execute_result"
    }
   ],
   "source": [
    "tag_dict = {}\n",
    "for tags in questions['Tags']:\n",
    "    tags_list = tags.split(\", \")\n",
    "    for tag in tags_list:\n",
    "        if tag in tag_dict:\n",
    "            tag_dict[tag] += 1\n",
    "        else:\n",
    "            tag_dict[tag] = 1\n",
    "        \n",
    "sort_dict = dict(sorted(tag_dict.items(), key=lambda x: x[1], reverse=True))\n",
    "\n",
    "tags_used = pd.DataFrame.from_dict(sort_dict, orient='index', columns=['count'])\n",
    "tags_used.head(15)"
   ]
  },
  {
   "cell_type": "code",
   "execution_count": 11,
   "id": "8c294954",
   "metadata": {},
   "outputs": [
    {
     "data": {
      "image/png": "[encoded data removed]",
      "text/plain": [
       "<Figure size 864x432 with 1 Axes>"
      ]
     },
     "metadata": {
      "needs_background": "light"
     },
     "output_type": "display_data"
    }
   ],
   "source": [
    "ax = tags_used.head(15).plot(kind='bar',figsize=(12,6),color='#2E517B')\n",
    "ax.set_title('Top 15 most used tags on DSSE(2022)',size=15,weight='bold')\n",
    "ax.spines[['left','right','top','bottom']].set_visible(False)\n",
    "ax.tick_params(left=False, bottom=False)\n",
    "plt.xticks(rotation=45)\n",
    "plt.xlabel('Tags',weight='bold')\n",
    "plt.ylabel('Count',weight='bold')\n",
    "plt.show()"
   ]
  },
  {
   "cell_type": "markdown",
   "id": "bb9c4a15",
   "metadata": {},
   "source": [
    "We can see that machine learning is the most used tag, followed by python which does make sense since we have already figured that out in the beginning."
   ]
  },
  {
   "cell_type": "code",
   "execution_count": 12,
   "id": "6d9aa791",
   "metadata": {},
   "outputs": [
    {
     "data": {
      "text/html": [
       "<div>\n",
       "<style scoped>\n",
       "    .dataframe tbody tr th:only-of-type {\n",
       "        vertical-align: middle;\n",
       "    }\n",
       "\n",
       "    .dataframe tbody tr th {\n",
       "        vertical-align: top;\n",
       "    }\n",
       "\n",
       "    .dataframe thead th {\n",
       "        text-align: right;\n",
       "    }\n",
       "</style>\n",
       "<table border=\"1\" class=\"dataframe\">\n",
       "  <thead>\n",
       "    <tr style=\"text-align: right;\">\n",
       "      <th></th>\n",
       "      <th>count</th>\n",
       "    </tr>\n",
       "  </thead>\n",
       "  <tbody>\n",
       "    <tr>\n",
       "      <th>machine learning</th>\n",
       "      <td>255499</td>\n",
       "    </tr>\n",
       "    <tr>\n",
       "      <th>python</th>\n",
       "      <td>157443</td>\n",
       "    </tr>\n",
       "    <tr>\n",
       "      <th>deep learning</th>\n",
       "      <td>87201</td>\n",
       "    </tr>\n",
       "    <tr>\n",
       "      <th>neural network</th>\n",
       "      <td>60564</td>\n",
       "    </tr>\n",
       "    <tr>\n",
       "      <th>deep learning</th>\n",
       "      <td>59771</td>\n",
       "    </tr>\n",
       "    <tr>\n",
       "      <th>tensorflow</th>\n",
       "      <td>58774</td>\n",
       "    </tr>\n",
       "    <tr>\n",
       "      <th>python</th>\n",
       "      <td>56525</td>\n",
       "    </tr>\n",
       "    <tr>\n",
       "      <th>classification</th>\n",
       "      <td>51386</td>\n",
       "    </tr>\n",
       "    <tr>\n",
       "      <th>pandas</th>\n",
       "      <td>48447</td>\n",
       "    </tr>\n",
       "    <tr>\n",
       "      <th>machine learning model</th>\n",
       "      <td>47635</td>\n",
       "    </tr>\n",
       "    <tr>\n",
       "      <th>nlp</th>\n",
       "      <td>47483</td>\n",
       "    </tr>\n",
       "    <tr>\n",
       "      <th>keras</th>\n",
       "      <td>46730</td>\n",
       "    </tr>\n",
       "    <tr>\n",
       "      <th>scikit learn</th>\n",
       "      <td>45998</td>\n",
       "    </tr>\n",
       "    <tr>\n",
       "      <th>nlp</th>\n",
       "      <td>32266</td>\n",
       "    </tr>\n",
       "    <tr>\n",
       "      <th>dataframe</th>\n",
       "      <td>29492</td>\n",
       "    </tr>\n",
       "  </tbody>\n",
       "</table>\n",
       "</div>"
      ],
      "text/plain": [
       "                          count\n",
       "machine learning         255499\n",
       "python                   157443\n",
       " deep learning            87201\n",
       " neural network           60564\n",
       "deep learning             59771\n",
       " tensorflow               58774\n",
       " python                   56525\n",
       " classification           51386\n",
       " pandas                   48447\n",
       " machine learning model   47635\n",
       " nlp                      47483\n",
       " keras                    46730\n",
       " scikit learn             45998\n",
       "nlp                       32266\n",
       " dataframe                29492"
      ]
     },
     "execution_count": 12,
     "metadata": {},
     "output_type": "execute_result"
    }
   ],
   "source": [
    "tag_views = {}\n",
    "for index,rows in questions.iterrows():\n",
    "    tags_list = rows['Tags'].split(\",\")\n",
    "    for tag in tags_list:\n",
    "        if tag in tag_views:\n",
    "            tag_views[tag] += rows['ViewCount']\n",
    "        else:\n",
    "            tag_views[tag] = rows['ViewCount']\n",
    "\n",
    "sort_views = dict(sorted(tag_views.items(), key=lambda x: x[1], reverse=True))\n",
    "            \n",
    "view_tags = pd.DataFrame.from_dict(sort_views, orient='index', columns=['count'])\n",
    "view_tags.head(15)"
   ]
  },
  {
   "cell_type": "code",
   "execution_count": 13,
   "id": "d4ace074",
   "metadata": {
    "scrolled": true
   },
   "outputs": [
    {
     "data": {
      "image/png": "[encoded data removed]",
      "text/plain": [
       "<Figure size 864x432 with 1 Axes>"
      ]
     },
     "metadata": {
      "needs_background": "light"
     },
     "output_type": "display_data"
    }
   ],
   "source": [
    "ax = view_tags.head(15).plot(kind='bar',figsize=(12,6),color='#2E517B')\n",
    "ax.set_title('Top 15 most viewed tags on DSSE(2022)',size=15,weight='bold')\n",
    "ax.spines[['left','right','top','bottom']].set_visible(False)\n",
    "ax.tick_params(left=False, bottom=False)\n",
    "plt.xticks(rotation=45)\n",
    "plt.xlabel('Tags',weight='bold')\n",
    "plt.ylabel('Views',weight='bold')\n",
    "plt.show()"
   ]
  },
  {
   "cell_type": "markdown",
   "id": "3d02a287",
   "metadata": {},
   "source": [
    "As We can see, Machine learning once again is the most viewed tag, followed by Python."
   ]
  },
  {
   "cell_type": "markdown",
   "id": "3a86852e",
   "metadata": {},
   "source": [
    "## What tags are in one datafram but not the other\n",
    "Let's check what tags are in most_viewed but not in most_used and vice versa (these two dataframes will represent the top 20 values for the most viewed and used)."
   ]
  },
  {
   "cell_type": "code",
   "execution_count": 14,
   "id": "15522aa9",
   "metadata": {},
   "outputs": [
    {
     "data": {
      "text/html": [
       "<div>\n",
       "<style scoped>\n",
       "    .dataframe tbody tr th:only-of-type {\n",
       "        vertical-align: middle;\n",
       "    }\n",
       "\n",
       "    .dataframe tbody tr th {\n",
       "        vertical-align: top;\n",
       "    }\n",
       "\n",
       "    .dataframe thead th {\n",
       "        text-align: right;\n",
       "    }\n",
       "</style>\n",
       "<table border=\"1\" class=\"dataframe\">\n",
       "  <thead>\n",
       "    <tr style=\"text-align: right;\">\n",
       "      <th></th>\n",
       "      <th>count_x</th>\n",
       "      <th>count_y</th>\n",
       "    </tr>\n",
       "  </thead>\n",
       "  <tbody>\n",
       "    <tr>\n",
       "      <th>machine learning</th>\n",
       "      <td>1279</td>\n",
       "      <td>255499.0</td>\n",
       "    </tr>\n",
       "    <tr>\n",
       "      <th>python</th>\n",
       "      <td>778</td>\n",
       "      <td>157443.0</td>\n",
       "    </tr>\n",
       "    <tr>\n",
       "      <th>deep learning</th>\n",
       "      <td>654</td>\n",
       "      <td>59771.0</td>\n",
       "    </tr>\n",
       "    <tr>\n",
       "      <th>nlp</th>\n",
       "      <td>398</td>\n",
       "      <td>32266.0</td>\n",
       "    </tr>\n",
       "    <tr>\n",
       "      <th>classification</th>\n",
       "      <td>385</td>\n",
       "      <td>NaN</td>\n",
       "    </tr>\n",
       "    <tr>\n",
       "      <th>neural network</th>\n",
       "      <td>366</td>\n",
       "      <td>NaN</td>\n",
       "    </tr>\n",
       "    <tr>\n",
       "      <th>time series</th>\n",
       "      <td>309</td>\n",
       "      <td>NaN</td>\n",
       "    </tr>\n",
       "    <tr>\n",
       "      <th>tensorflow</th>\n",
       "      <td>268</td>\n",
       "      <td>NaN</td>\n",
       "    </tr>\n",
       "    <tr>\n",
       "      <th>scikit learn</th>\n",
       "      <td>266</td>\n",
       "      <td>24216.0</td>\n",
       "    </tr>\n",
       "    <tr>\n",
       "      <th>keras</th>\n",
       "      <td>261</td>\n",
       "      <td>21818.0</td>\n",
       "    </tr>\n",
       "    <tr>\n",
       "      <th>regression</th>\n",
       "      <td>229</td>\n",
       "      <td>NaN</td>\n",
       "    </tr>\n",
       "    <tr>\n",
       "      <th>machine learning model</th>\n",
       "      <td>176</td>\n",
       "      <td>NaN</td>\n",
       "    </tr>\n",
       "    <tr>\n",
       "      <th>dataset</th>\n",
       "      <td>162</td>\n",
       "      <td>NaN</td>\n",
       "    </tr>\n",
       "    <tr>\n",
       "      <th>data science model</th>\n",
       "      <td>159</td>\n",
       "      <td>NaN</td>\n",
       "    </tr>\n",
       "    <tr>\n",
       "      <th>clustering</th>\n",
       "      <td>159</td>\n",
       "      <td>NaN</td>\n",
       "    </tr>\n",
       "    <tr>\n",
       "      <th>pandas</th>\n",
       "      <td>156</td>\n",
       "      <td>NaN</td>\n",
       "    </tr>\n",
       "    <tr>\n",
       "      <th>lstm</th>\n",
       "      <td>156</td>\n",
       "      <td>NaN</td>\n",
       "    </tr>\n",
       "    <tr>\n",
       "      <th>cnn</th>\n",
       "      <td>145</td>\n",
       "      <td>NaN</td>\n",
       "    </tr>\n",
       "    <tr>\n",
       "      <th>statistics</th>\n",
       "      <td>141</td>\n",
       "      <td>NaN</td>\n",
       "    </tr>\n",
       "    <tr>\n",
       "      <th>pytorch</th>\n",
       "      <td>141</td>\n",
       "      <td>NaN</td>\n",
       "    </tr>\n",
       "  </tbody>\n",
       "</table>\n",
       "</div>"
      ],
      "text/plain": [
       "                        count_x   count_y\n",
       "machine learning           1279  255499.0\n",
       "python                      778  157443.0\n",
       "deep learning               654   59771.0\n",
       "nlp                         398   32266.0\n",
       "classification              385       NaN\n",
       "neural network              366       NaN\n",
       "time series                 309       NaN\n",
       "tensorflow                  268       NaN\n",
       "scikit learn                266   24216.0\n",
       "keras                       261   21818.0\n",
       "regression                  229       NaN\n",
       "machine learning model      176       NaN\n",
       "dataset                     162       NaN\n",
       "data science model          159       NaN\n",
       "clustering                  159       NaN\n",
       "pandas                      156       NaN\n",
       "lstm                        156       NaN\n",
       "cnn                         145       NaN\n",
       "statistics                  141       NaN\n",
       "pytorch                     141       NaN"
      ]
     },
     "execution_count": 14,
     "metadata": {},
     "output_type": "execute_result"
    }
   ],
   "source": [
    "most_viewed = view_tags.head(20)\n",
    "most_used = tags_used.head(20)\n",
    "\n",
    "used = in_used = pd.merge(most_used, most_viewed, how=\"left\", left_index=True, right_index=True)\n",
    "used"
   ]
  },
  {
   "cell_type": "code",
   "execution_count": 15,
   "id": "fe762f79",
   "metadata": {},
   "outputs": [
    {
     "data": {
      "text/html": [
       "<div>\n",
       "<style scoped>\n",
       "    .dataframe tbody tr th:only-of-type {\n",
       "        vertical-align: middle;\n",
       "    }\n",
       "\n",
       "    .dataframe tbody tr th {\n",
       "        vertical-align: top;\n",
       "    }\n",
       "\n",
       "    .dataframe thead th {\n",
       "        text-align: right;\n",
       "    }\n",
       "</style>\n",
       "<table border=\"1\" class=\"dataframe\">\n",
       "  <thead>\n",
       "    <tr style=\"text-align: right;\">\n",
       "      <th></th>\n",
       "      <th>count_x</th>\n",
       "      <th>count_y</th>\n",
       "    </tr>\n",
       "  </thead>\n",
       "  <tbody>\n",
       "    <tr>\n",
       "      <th>machine learning</th>\n",
       "      <td>255499</td>\n",
       "      <td>1279.0</td>\n",
       "    </tr>\n",
       "    <tr>\n",
       "      <th>python</th>\n",
       "      <td>157443</td>\n",
       "      <td>778.0</td>\n",
       "    </tr>\n",
       "    <tr>\n",
       "      <th>deep learning</th>\n",
       "      <td>87201</td>\n",
       "      <td>NaN</td>\n",
       "    </tr>\n",
       "    <tr>\n",
       "      <th>neural network</th>\n",
       "      <td>60564</td>\n",
       "      <td>NaN</td>\n",
       "    </tr>\n",
       "    <tr>\n",
       "      <th>deep learning</th>\n",
       "      <td>59771</td>\n",
       "      <td>654.0</td>\n",
       "    </tr>\n",
       "    <tr>\n",
       "      <th>tensorflow</th>\n",
       "      <td>58774</td>\n",
       "      <td>NaN</td>\n",
       "    </tr>\n",
       "    <tr>\n",
       "      <th>python</th>\n",
       "      <td>56525</td>\n",
       "      <td>NaN</td>\n",
       "    </tr>\n",
       "    <tr>\n",
       "      <th>classification</th>\n",
       "      <td>51386</td>\n",
       "      <td>NaN</td>\n",
       "    </tr>\n",
       "    <tr>\n",
       "      <th>pandas</th>\n",
       "      <td>48447</td>\n",
       "      <td>NaN</td>\n",
       "    </tr>\n",
       "    <tr>\n",
       "      <th>machine learning model</th>\n",
       "      <td>47635</td>\n",
       "      <td>NaN</td>\n",
       "    </tr>\n",
       "    <tr>\n",
       "      <th>nlp</th>\n",
       "      <td>47483</td>\n",
       "      <td>NaN</td>\n",
       "    </tr>\n",
       "    <tr>\n",
       "      <th>keras</th>\n",
       "      <td>46730</td>\n",
       "      <td>NaN</td>\n",
       "    </tr>\n",
       "    <tr>\n",
       "      <th>scikit learn</th>\n",
       "      <td>45998</td>\n",
       "      <td>NaN</td>\n",
       "    </tr>\n",
       "    <tr>\n",
       "      <th>nlp</th>\n",
       "      <td>32266</td>\n",
       "      <td>398.0</td>\n",
       "    </tr>\n",
       "    <tr>\n",
       "      <th>dataframe</th>\n",
       "      <td>29492</td>\n",
       "      <td>NaN</td>\n",
       "    </tr>\n",
       "    <tr>\n",
       "      <th>transformer</th>\n",
       "      <td>27024</td>\n",
       "      <td>NaN</td>\n",
       "    </tr>\n",
       "    <tr>\n",
       "      <th>lstm</th>\n",
       "      <td>25514</td>\n",
       "      <td>NaN</td>\n",
       "    </tr>\n",
       "    <tr>\n",
       "      <th>scikit learn</th>\n",
       "      <td>24216</td>\n",
       "      <td>266.0</td>\n",
       "    </tr>\n",
       "    <tr>\n",
       "      <th>time series</th>\n",
       "      <td>22867</td>\n",
       "      <td>NaN</td>\n",
       "    </tr>\n",
       "    <tr>\n",
       "      <th>keras</th>\n",
       "      <td>21818</td>\n",
       "      <td>261.0</td>\n",
       "    </tr>\n",
       "  </tbody>\n",
       "</table>\n",
       "</div>"
      ],
      "text/plain": [
       "                         count_x  count_y\n",
       "machine learning          255499   1279.0\n",
       "python                    157443    778.0\n",
       " deep learning             87201      NaN\n",
       " neural network            60564      NaN\n",
       "deep learning              59771    654.0\n",
       " tensorflow                58774      NaN\n",
       " python                    56525      NaN\n",
       " classification            51386      NaN\n",
       " pandas                    48447      NaN\n",
       " machine learning model    47635      NaN\n",
       " nlp                       47483      NaN\n",
       " keras                     46730      NaN\n",
       " scikit learn              45998      NaN\n",
       "nlp                        32266    398.0\n",
       " dataframe                 29492      NaN\n",
       " transformer               27024      NaN\n",
       " lstm                      25514      NaN\n",
       "scikit learn               24216    266.0\n",
       " time series               22867      NaN\n",
       "keras                      21818    261.0"
      ]
     },
     "execution_count": 15,
     "metadata": {},
     "output_type": "execute_result"
    }
   ],
   "source": [
    "viewed = in_used = pd.merge(most_viewed, most_used, how=\"left\", left_index=True, right_index=True)\n",
    "viewed"
   ]
  },
  {
   "cell_type": "markdown",
   "id": "6d01d375",
   "metadata": {},
   "source": [
    "As we can see for both dataframes, more than half of the right column is missing. This explains that just because a tag is used a lot does not mean it will be viewed a lot and vice versa.\n",
    "\n",
    "Most of the highest viewed tags are related in terms of machine learning. Whether it be about machine learning, machine learning libraries, or Python, they are all related to one another."
   ]
  },
  {
   "cell_type": "markdown",
   "id": "e78f1553",
   "metadata": {},
   "source": [
    "## Is Deep learning just a fad?\n",
    "Let's find out if the interest of deep learning increased over time or decreased."
   ]
  },
  {
   "cell_type": "code",
   "execution_count": 16,
   "id": "6629ef83",
   "metadata": {},
   "outputs": [],
   "source": [
    "all_questions = pd.read_csv(\"QueryResults.csv\",parse_dates=['CreationDate'])"
   ]
  },
  {
   "cell_type": "code",
   "execution_count": 17,
   "id": "eeff6d20",
   "metadata": {},
   "outputs": [
    {
     "data": {
      "text/html": [
       "<div>\n",
       "<style scoped>\n",
       "    .dataframe tbody tr th:only-of-type {\n",
       "        vertical-align: middle;\n",
       "    }\n",
       "\n",
       "    .dataframe tbody tr th {\n",
       "        vertical-align: top;\n",
       "    }\n",
       "\n",
       "    .dataframe thead th {\n",
       "        text-align: right;\n",
       "    }\n",
       "</style>\n",
       "<table border=\"1\" class=\"dataframe\">\n",
       "  <thead>\n",
       "    <tr style=\"text-align: right;\">\n",
       "      <th></th>\n",
       "      <th>Id</th>\n",
       "      <th>CreationDate</th>\n",
       "      <th>Tags</th>\n",
       "    </tr>\n",
       "  </thead>\n",
       "  <tbody>\n",
       "    <tr>\n",
       "      <th>0</th>\n",
       "      <td>31914</td>\n",
       "      <td>2018-05-21 09:42:52</td>\n",
       "      <td>&lt;python&gt;&lt;scikit-learn&gt;&lt;svm&gt;&lt;hyperparameter&gt;</td>\n",
       "    </tr>\n",
       "    <tr>\n",
       "      <th>1</th>\n",
       "      <td>31916</td>\n",
       "      <td>2018-05-21 10:13:25</td>\n",
       "      <td>&lt;machine-learning&gt;&lt;python&gt;&lt;predictive-modeling...</td>\n",
       "    </tr>\n",
       "    <tr>\n",
       "      <th>2</th>\n",
       "      <td>31922</td>\n",
       "      <td>2018-05-21 12:02:44</td>\n",
       "      <td>&lt;optimization&gt;&lt;bayesian&gt;</td>\n",
       "    </tr>\n",
       "    <tr>\n",
       "      <th>3</th>\n",
       "      <td>31923</td>\n",
       "      <td>2018-05-21 12:28:51</td>\n",
       "      <td>&lt;python&gt;&lt;deep-learning&gt;&lt;keras&gt;&lt;lstm&gt;</td>\n",
       "    </tr>\n",
       "    <tr>\n",
       "      <th>4</th>\n",
       "      <td>31925</td>\n",
       "      <td>2018-05-21 12:43:56</td>\n",
       "      <td>&lt;python&gt;&lt;nlp&gt;&lt;nltk&gt;</td>\n",
       "    </tr>\n",
       "  </tbody>\n",
       "</table>\n",
       "</div>"
      ],
      "text/plain": [
       "      Id        CreationDate  \\\n",
       "0  31914 2018-05-21 09:42:52   \n",
       "1  31916 2018-05-21 10:13:25   \n",
       "2  31922 2018-05-21 12:02:44   \n",
       "3  31923 2018-05-21 12:28:51   \n",
       "4  31925 2018-05-21 12:43:56   \n",
       "\n",
       "                                                Tags  \n",
       "0        <python><scikit-learn><svm><hyperparameter>  \n",
       "1  <machine-learning><python><predictive-modeling...  \n",
       "2                           <optimization><bayesian>  \n",
       "3               <python><deep-learning><keras><lstm>  \n",
       "4                                <python><nlp><nltk>  "
      ]
     },
     "execution_count": 17,
     "metadata": {},
     "output_type": "execute_result"
    }
   ],
   "source": [
    "all_questions.head()"
   ]
  },
  {
   "cell_type": "code",
   "execution_count": 18,
   "id": "48ec7825",
   "metadata": {},
   "outputs": [
    {
     "data": {
      "text/html": [
       "<div>\n",
       "<style scoped>\n",
       "    .dataframe tbody tr th:only-of-type {\n",
       "        vertical-align: middle;\n",
       "    }\n",
       "\n",
       "    .dataframe tbody tr th {\n",
       "        vertical-align: top;\n",
       "    }\n",
       "\n",
       "    .dataframe thead th {\n",
       "        text-align: right;\n",
       "    }\n",
       "</style>\n",
       "<table border=\"1\" class=\"dataframe\">\n",
       "  <thead>\n",
       "    <tr style=\"text-align: right;\">\n",
       "      <th></th>\n",
       "      <th>Id</th>\n",
       "      <th>CreationDate</th>\n",
       "      <th>Tags</th>\n",
       "    </tr>\n",
       "  </thead>\n",
       "  <tbody>\n",
       "    <tr>\n",
       "      <th>0</th>\n",
       "      <td>31914</td>\n",
       "      <td>2018-05-21 09:42:52</td>\n",
       "      <td>python, scikit learn, svm, hyperparameter</td>\n",
       "    </tr>\n",
       "    <tr>\n",
       "      <th>1</th>\n",
       "      <td>31916</td>\n",
       "      <td>2018-05-21 10:13:25</td>\n",
       "      <td>machine learning, python, predictive modeling,...</td>\n",
       "    </tr>\n",
       "    <tr>\n",
       "      <th>2</th>\n",
       "      <td>31922</td>\n",
       "      <td>2018-05-21 12:02:44</td>\n",
       "      <td>optimization, bayesian</td>\n",
       "    </tr>\n",
       "    <tr>\n",
       "      <th>3</th>\n",
       "      <td>31923</td>\n",
       "      <td>2018-05-21 12:28:51</td>\n",
       "      <td>python, deep learning, keras, lstm</td>\n",
       "    </tr>\n",
       "    <tr>\n",
       "      <th>4</th>\n",
       "      <td>31925</td>\n",
       "      <td>2018-05-21 12:43:56</td>\n",
       "      <td>python, nlp, nltk</td>\n",
       "    </tr>\n",
       "  </tbody>\n",
       "</table>\n",
       "</div>"
      ],
      "text/plain": [
       "      Id        CreationDate  \\\n",
       "0  31914 2018-05-21 09:42:52   \n",
       "1  31916 2018-05-21 10:13:25   \n",
       "2  31922 2018-05-21 12:02:44   \n",
       "3  31923 2018-05-21 12:28:51   \n",
       "4  31925 2018-05-21 12:43:56   \n",
       "\n",
       "                                                Tags  \n",
       "0          python, scikit learn, svm, hyperparameter  \n",
       "1  machine learning, python, predictive modeling,...  \n",
       "2                             optimization, bayesian  \n",
       "3                 python, deep learning, keras, lstm  \n",
       "4                                  python, nlp, nltk  "
      ]
     },
     "execution_count": 18,
     "metadata": {},
     "output_type": "execute_result"
    }
   ],
   "source": [
    "## Fixing the Tags column\n",
    "all_questions['Tags'] = all_questions['Tags'].str.replace(\"><\",\", \").str.replace(\"<\",\"\").str.replace(\">\",\"\").str.replace(\"-\",\" \")\n",
    "all_questions.head()"
   ]
  },
  {
   "cell_type": "markdown",
   "id": "d3b90bb8",
   "metadata": {},
   "source": [
    "The goal is to find the amount of deep learning tags per time period, the total amount of questions per time period, and the amount of deep learning questions there are relative to the time period. The time period will be yearly."
   ]
  },
  {
   "cell_type": "code",
   "execution_count": 19,
   "id": "f8cf60fd",
   "metadata": {},
   "outputs": [
    {
     "data": {
      "text/plain": [
       "Year\n",
       "2014     559\n",
       "2015    1161\n",
       "2016    2113\n",
       "2017    2916\n",
       "2018    5326\n",
       "2019    6749\n",
       "2020    6132\n",
       "2021    4716\n",
       "2022    4644\n",
       "2023    1777\n",
       "Freq: A-DEC, dtype: int64"
      ]
     },
     "execution_count": 19,
     "metadata": {},
     "output_type": "execute_result"
    }
   ],
   "source": [
    "## Create DataFrame regarding total questions per year\n",
    "all_questions['Year'] = all_questions['CreationDate'].dt.to_period('Y')\n",
    "total_q = all_questions.groupby('Year').size()\n",
    "total_q.head(10)"
   ]
  },
  {
   "cell_type": "code",
   "execution_count": 26,
   "id": "fc2111dd",
   "metadata": {},
   "outputs": [],
   "source": [
    "## Create DataFrame regarding total questions of deep learning per year\n",
    "all_deep_learn = all_questions.copy()\n",
    "\n",
    "for index,tags in enumerate(all_deep_learn['Tags']):\n",
    "    tag_list2 = tags.split(\", \")\n",
    "    if 'deep learning' not in tag_list2:\n",
    "        all_deep_learn = all_deep_learn.drop(index,axis=0)"
   ]
  },
  {
   "cell_type": "code",
   "execution_count": 29,
   "id": "486da761",
   "metadata": {},
   "outputs": [
    {
     "data": {
      "text/plain": [
       "Year\n",
       "2014      8\n",
       "2015     30\n",
       "2016    158\n",
       "2017    422\n",
       "2018    896\n",
       "2019    895\n",
       "2020    842\n",
       "2021    683\n",
       "2022    654\n",
       "2023    213\n",
       "Freq: A-DEC, dtype: int64"
      ]
     },
     "execution_count": 29,
     "metadata": {},
     "output_type": "execute_result"
    }
   ],
   "source": [
    "total_deep = all_deep_learn.groupby('Year').size()\n",
    "total_deep.head(10)"
   ]
  },
  {
   "cell_type": "code",
   "execution_count": 38,
   "id": "5a34ae2d",
   "metadata": {},
   "outputs": [
    {
     "data": {
      "text/plain": [
       "Year\n",
       "2014     1.43\n",
       "2015     2.58\n",
       "2016     7.48\n",
       "2017    14.47\n",
       "2018    16.82\n",
       "2019    13.26\n",
       "2020    13.73\n",
       "2021    14.48\n",
       "2022    14.08\n",
       "2023    11.99\n",
       "Freq: A-DEC, dtype: float64"
      ]
     },
     "execution_count": 38,
     "metadata": {},
     "output_type": "execute_result"
    }
   ],
   "source": [
    "## Create DataFrame to represent the percentage of deep learning related questions per time period\n",
    "proportion = round((total_deep / total_q)*100,2)\n",
    "proportion.head(10)"
   ]
  },
  {
   "cell_type": "code",
   "execution_count": 73,
   "id": "889713dd",
   "metadata": {},
   "outputs": [
    {
     "data": {
      "image/png": "[encoded data removed]",
      "text/plain": [
       "<Figure size 432x288 with 1 Axes>"
      ]
     },
     "metadata": {
      "needs_background": "light"
     },
     "output_type": "display_data"
    }
   ],
   "source": [
    "total_q.plot.barh(color='orange')\n",
    "ax = plt.gca()\n",
    "ax.spines[['left','right','top','bottom']].set_visible(False)\n",
    "ax.tick_params(left=False, bottom=False)\n",
    "plt.title('Total questions per year',weight='bold')\n",
    "plt.xlabel('Number of questions',weight='bold')\n",
    "plt.ylabel('')\n",
    "plt.show()"
   ]
  },
  {
   "cell_type": "code",
   "execution_count": 74,
   "id": "65c47555",
   "metadata": {},
   "outputs": [
    {
     "data": {
      "image/png": "[encoded data removed]",
      "text/plain": [
       "<Figure size 432x288 with 1 Axes>"
      ]
     },
     "metadata": {
      "needs_background": "light"
     },
     "output_type": "display_data"
    }
   ],
   "source": [
    "total_deep.plot.barh(color='blue')\n",
    "ax = plt.gca()\n",
    "ax.spines[['left','right','top','bottom']].set_visible(False)\n",
    "ax.tick_params(left=False, bottom=False)\n",
    "plt.title('Total questions regarding deep learning',weight='bold')\n",
    "plt.xlabel('Number of questions',weight='bold')\n",
    "plt.ylabel('')\n",
    "plt.show()"
   ]
  },
  {
   "cell_type": "code",
   "execution_count": 76,
   "id": "74555c4e",
   "metadata": {},
   "outputs": [
    {
     "data": {
      "image/png": "[encoded data removed]",
      "text/plain": [
       "<Figure size 432x288 with 1 Axes>"
      ]
     },
     "metadata": {
      "needs_background": "light"
     },
     "output_type": "display_data"
    }
   ],
   "source": [
    "proportion.plot.barh(color='green')\n",
    "ax = plt.gca()\n",
    "ax.spines[['left','right','top','bottom']].set_visible(False)\n",
    "ax.tick_params(left=False, bottom=False)\n",
    "plt.title('Percentage of questions regarding deep learning',weight='bold')\n",
    "plt.xlabel('Percentage (%)',weight='bold')\n",
    "plt.ylabel('')\n",
    "plt.show()"
   ]
  },
  {
   "cell_type": "markdown",
   "id": "41683149",
   "metadata": {},
   "source": [
    "We can see that the questions regarding deep learning have definetly declined after 2020, but are still relatively high compared to 2017 and prior."
   ]
  }
 ],
 "metadata": {
  "kernelspec": {
   "display_name": "Python 3 (ipykernel)",
   "language": "python",
   "name": "python3"
  },
  "language_info": {
   "codemirror_mode": {
    "name": "ipython",
    "version": 3
   },
   "file_extension": ".py",
   "mimetype": "text/x-python",
   "name": "python",
   "nbconvert_exporter": "python",
   "pygments_lexer": "ipython3",
   "version": "3.9.7"
  }
 },
 "nbformat": 4,
 "nbformat_minor": 5
}
